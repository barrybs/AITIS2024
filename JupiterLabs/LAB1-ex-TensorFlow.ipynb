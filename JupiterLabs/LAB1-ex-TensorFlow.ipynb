{
 "cells": [
  {
   "cell_type": "code",
   "execution_count": null,
   "id": "52993e8a-d1f5-49eb-af55-7379bc3ab058",
   "metadata": {},
   "outputs": [],
   "source": [
    "# Esercizio 1: Prezzi delle case\n",
    "\n",
    "In questo esercizio costruirai una rete neurale che prevede il prezzo di una casa in base a una formula semplice.\n",
    "\n",
    "Immagina che il prezzo di una casa sia determinato come segue:\n",
    "\n",
    "Una casa ha un costo base di 50.000€, e ogni camera da letto aggiuntiva aumenta il costo di 50.000€. Questo significa che una casa con 1 camera da letto costa 100.000€, una casa con 2 camere da letto costa 150.000€, e così via.\n",
    "\n",
    "Come potresti creare una rete neurale che apprenda questa relazione, in modo che possa prevedere, ad esempio, il prezzo di una casa con 7 camere da letto, vicino a 400.000€?\n",
    "\n",
    "Suggerimento: La tua rete potrebbe funzionare meglio se ridimensioni il prezzo della casa. Non è necessario che il modello dia come risposta 400.000... potrebbe essere più utile creare qualcosa che preveda il numero 4, e poi interpretare la risposta in \"centinaia di migliaia\", ecc."
   ]
  },
  {
   "cell_type": "code",
   "execution_count": null,
   "id": "1206c79e-6016-4f03-966f-6362f22a4004",
   "metadata": {},
   "outputs": [],
   "source": [
    "#Importazione librerie"
   ]
  },
  {
   "cell_type": "code",
   "execution_count": null,
   "id": "0acfb9cd-28a7-4ebf-89d9-a788c51ddcc9",
   "metadata": {},
   "outputs": [],
   "source": [
    "## Esercizio 1\n",
    "\n",
    "Il tuo primo compito è creare i dati su cui verrà addestrato il tuo modello.\n",
    "\n",
    "Per generare i dati di addestramento (ossia le caratteristiche e i target), utilizzerai NumPy per creare un tensore unidimensionale con il numero di camere da letto e un altro tensore unidimensionale con il corrispondente prezzo espresso in centinaia di migliaia di dollari. In questo caso, il numero di camere da letto rappresenterà le caratteristiche, che la rete tenterà di mappare sui target dei prezzi. Questi tensori (o array di NumPy) dovranno avere sei elementi, che rappresenteranno i valori (numero di camere da letto e prezzo in centinaia di migliaia) per case con da 1 a 6 camere da letto.\n",
    "\n",
    "Suggerimenti:\n",
    "\n",
    "Anche se il numero di camere da letto può essere considerato un intero, definisci questi valori come float per tenere conto di scenari come una \"mezza camera da letto\".\n",
    "Anche il prezzo dovrebbe essere un float, poiché la valuta è tipicamente definita in questo formato."
   ]
  },
  {
   "cell_type": "code",
   "execution_count": null,
   "id": "e46c162c-9f6c-4ce9-adb1-9d50f6d1d7bc",
   "metadata": {},
   "outputs": [],
   "source": [
    "def create_training_data():\n",
    "    \"\"\"Creates the data that will be used for training the model.\n",
    "\n",
    "    Returns:\n",
    "        (numpy.ndarray, numpy.ndarray): Arrays that contain info about the number of bedrooms and price in hundreds of thousands for 6 houses.\n",
    "    \"\"\"\n",
    "    \n",
    "    ### INIZIO CODICE ###\n",
    "    \n",
    "    # Define feature and target tensors with the values for houses with 1 up to 6 bedrooms\n",
    "    # Hint: Remember to explictly set the dtype as float when defining the numpy arrays\n",
    "    n_bedrooms = \n",
    "    price_in_hundreds_of_thousands = \n",
    "\n",
    "    ### FINE CODICE ###\n",
    "\n",
    "    return n_bedrooms, price_in_hundreds_of_thousands"
   ]
  },
  {
   "cell_type": "code",
   "execution_count": null,
   "id": "fd15e865-b540-444e-b3f9-9c566dd9593b",
   "metadata": {},
   "outputs": [],
   "source": [
    "features, targets = create_training_data()\n",
    "\n",
    "print(f\"Features have shape: {features.shape}\")\n",
    "print(f\"Targets have shape: {targets.shape}\")"
   ]
  },
  {
   "cell_type": "code",
   "execution_count": null,
   "id": "12b7c804-d1d0-4e2b-89a9-e6e2c02fae2c",
   "metadata": {},
   "outputs": [],
   "source": [
    "## Definizione e compilazione del modello\n",
    "\n",
    "Il tuo compito è definire l'architettura del modello e compilarlo.\n",
    "\n",
    "Per questo compito, il modello dovrebbe essere composto da:\n",
    "- **Un singolo livello Dense con 1 unità**\n",
    "- Ottimizzatore: `Stochastic Gradient Descent`\n",
    "- Funzione di perdita: `Mean Squared Error`\n",
    "\n",
    "**Nota**: I dati di addestramento sono unidimensionali, quindi la forma dell'input deve essere definita di conseguenza.\n"
   ]
  },
  {
   "cell_type": "code",
   "execution_count": null,
   "id": "24f31431-151b-4f67-8d4d-66b1b3c99d5a",
   "metadata": {},
   "outputs": [],
   "source": [
    "def define_and_compile_model():\n",
    "    \"\"\"Returns the compiled (but untrained) model.\n",
    "\n",
    "    Returns:\n",
    "        tf.keras.Model: The model that will be trained to predict house prices.\n",
    "    \"\"\"\n",
    "    \n",
    "    ### INIZIO CODICE ###\n",
    "\n",
    "    \n",
    "\n",
    "    ### FINE CODICE ###\n",
    "\n",
    "    return model"
   ]
  },
  {
   "cell_type": "code",
   "execution_count": null,
   "id": "869c1300-d7a6-474b-a57a-593fb2422135",
   "metadata": {},
   "outputs": [],
   "source": [
    "untrained_model = define_and_compile_model()\n",
    "\n",
    "untrained_model.summary()"
   ]
  },
  {
   "cell_type": "code",
   "execution_count": null,
   "id": "488a6e37-0324-41ce-a487-481a7695eb7a",
   "metadata": {},
   "outputs": [],
   "source": [
    "## Addestramento del modello\n",
    "\n",
    "Ora che il modello e i dati di addestramento sono pronti, è il momento di addestrare il modello. Userai i dati di addestramento per permettere al modello di apprendere la relazione tra il numero di camere da letto e il prezzo delle case.\n",
    "\n",
    "Per questo utilizzerai il metodo [fit](https://www.tensorflow.org/api_docs/python/tf/keras/Model#fit) di TensorFlow.\n",
    "\n",
    "Dopo l'addestramento, testerai la rete con una casa di 7 camere da letto per verificare se è in grado di prevederne accuratamente il prezzo.\n",
    "\n"
   ]
  },
  {
   "cell_type": "code",
   "execution_count": null,
   "id": "ca0b4eb4-9c34-441d-b469-43da6179775b",
   "metadata": {},
   "outputs": [],
   "source": [
    "def train_model():\n",
    "    \"\"\"Returns the trained model.\n",
    "\n",
    "    Returns:\n",
    "        tf.keras.Model: The trained model that will predict house prices.\n",
    "    \"\"\"\n",
    "\n",
    "    ### INIZIO CODICE ###\n",
    "\n",
    "    \n",
    "    ### FINE CODICE ###\n",
    "\n",
    "    return model"
   ]
  },
  {
   "cell_type": "code",
   "execution_count": null,
   "id": "a5304318-9d4e-4485-8549-d61301da2620",
   "metadata": {},
   "outputs": [],
   "source": [
    "Ora che hai una funzione che restituisce un modello compilato e addestrato quando viene invocata, utilizzala per fare in modo che il modello predica il prezzo delle case:"
   ]
  },
  {
   "cell_type": "code",
   "execution_count": null,
   "id": "832e491e-07dd-4a3d-98bd-3a5138431110",
   "metadata": {},
   "outputs": [],
   "source": [
    "# Get your trained model\n",
    "trained_model = train_model()"
   ]
  },
  {
   "cell_type": "code",
   "execution_count": null,
   "id": "b7746e9e-bdc6-46f2-8d8d-8fec72ecfc38",
   "metadata": {},
   "outputs": [],
   "source": [
    "**Output che ci aspettiamo**\n",
    "\n",
    "I valori della funzione di perdita non devono essere esattamente uguali a quelli mostrati o previsti. \n",
    "    \n",
    "```\n",
    "Epoch 1/500\n",
    "1/1 [==============================] - 0s 409ms/step - loss: 14.7905\n",
    "Epoch 2/500\n",
    "1/1 [==============================] - 0s 5ms/step - loss: 6.8536\n",
    "Epoch 3/500\n",
    "1/1 [==============================] - 0s 7ms/step - loss: 3.1801\n",
    "...\n",
    "...\n",
    "...\n",
    "1/1 [==============================] - 0s 12ms/step - loss: 1.0113e-07\n",
    "Epoch 500/500\n",
    "1/1 [==============================] - 0s 12ms/step - loss: 1.0038e-07\n",
    "```"
   ]
  },
  {
   "cell_type": "code",
   "execution_count": null,
   "id": "db022b2c-0da1-4747-bb57-5217430075a7",
   "metadata": {},
   "outputs": [],
   "source": [
    "Ora che il tuo modello ha completato il training è il momento di testarlo! Puoi farlo eseguendo la cella successiva."
   ]
  },
  {
   "cell_type": "code",
   "execution_count": null,
   "id": "f4a74c2d-7be8-414d-baee-8a950be120c4",
   "metadata": {},
   "outputs": [],
   "source": [
    "new_n_bedrooms = np.array([7.0])\n",
    "predicted_price = trained_model.predict(new_n_bedrooms, verbose=False).item()\n",
    "print(f\"Your model predicted a price of {predicted_price:.2f} hundreds of thousands of dollars for a {int(new_n_bedrooms.item())} bedrooms house\")"
   ]
  },
  {
   "cell_type": "code",
   "execution_count": null,
   "id": "319dbc95-f6c7-4c0a-9b3c-43533a0107a2",
   "metadata": {},
   "outputs": [],
   "source": [
    "## Output Atteso\n",
    "\n",
    "I valori della funzione di perdita non devono essere esattamente uguali a quelli mostrati.\n",
    "\n",
    "Il tuo modello ha previsto un prezzo di 4,03 centinaia di migliaia di dollari per una casa con 7 camere da letto.\n",
    "\n",
    "**Nota:** Il prezzo non deve corrispondere esattamente a questo valore, ma dovrebbe essere vicino a 4.\n"
   ]
  },
  {
   "cell_type": "code",
   "execution_count": null,
   "id": "4099c741-48e7-449d-895a-f2ab428a5858",
   "metadata": {},
   "outputs": [],
   "source": [
    "## Verifica dei Risultati\n",
    "\n",
    "Se tutto è andato come previsto, dovresti vedere un valore di predizione molto vicino a 4. **In caso contrario, prova a correggere il codice prima di inviare l'esercizio.** \n",
    "\n",
    "Nota che puoi modificare il valore di `new_n_bedrooms` per ottenere predizioni diverse. In generale, dovresti osservare che la rete è stata in grado di apprendere la relazione lineare tra `n_bedrooms` e `price_in_hundreds_of_thousands`. \n",
    "\n",
    "Ad esempio:\n",
    "- Utilizzando un valore di 8.0 per `new_n_bedrooms`, dovresti ottenere una predizione vicina a 4.5, e così via.\n"
   ]
  },
  {
   "cell_type": "code",
   "execution_count": null,
   "id": "3554fa02-21da-4699-bb69-2772484bc25e",
   "metadata": {},
   "outputs": [],
   "source": [
    "## **Congratulazioni per aver completato l'esercizio di questa settimana!**\n",
    "\n",
    "Hai sviluppato con successo una rete neurale che ha appreso la relazione lineare tra due variabili. Ottimo lavoro!\n",
    "\n",
    "**Continua così!**\n"
   ]
  }
 ],
 "metadata": {
  "kernelspec": {
   "display_name": "Python 3 (ipykernel)",
   "language": "python",
   "name": "python3"
  },
  "language_info": {
   "codemirror_mode": {
    "name": "ipython",
    "version": 3
   },
   "file_extension": ".py",
   "mimetype": "text/x-python",
   "name": "python",
   "nbconvert_exporter": "python",
   "pygments_lexer": "ipython3",
   "version": "3.11.5"
  }
 },
 "nbformat": 4,
 "nbformat_minor": 5
}
